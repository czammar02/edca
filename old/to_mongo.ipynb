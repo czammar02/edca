{
 "cells": [
  {
   "cell_type": "code",
   "execution_count": 18,
   "metadata": {},
   "outputs": [],
   "source": [
    "import pymongo\n",
    "import json\n",
    "import os\n",
    "from bson import ObjectId"
   ]
  },
  {
   "cell_type": "code",
   "execution_count": 6,
   "metadata": {},
   "outputs": [],
   "source": [
    "CONN_STRING = \"mongodb://127.0.0.1:27017/?readPreference=primary&serverSelectionTimeoutMS=2000&directConnection=true&ssl=false\""
   ]
  },
  {
   "cell_type": "code",
   "execution_count": 7,
   "metadata": {},
   "outputs": [],
   "source": [
    "myclient = pymongo.MongoClient(CONN_STRING)"
   ]
  },
  {
   "cell_type": "code",
   "execution_count": 22,
   "metadata": {},
   "outputs": [],
   "source": [
    "db = myclient[\"edca\"][\"raw\"]"
   ]
  },
  {
   "cell_type": "code",
   "execution_count": 23,
   "metadata": {},
   "outputs": [],
   "source": [
    "# Nombre de los archivos json en la carpeta de trabajo\n",
    "path_to_json = 'contratacionesabiertas_bulk_paquetes_json/'\n",
    "json_files = [pos_json for pos_json in os.listdir(path_to_json) if pos_json.endswith('.json')]"
   ]
  },
  {
   "cell_type": "code",
   "execution_count": 24,
   "metadata": {},
   "outputs": [],
   "source": [
    "for js in json_files:\n",
    "\n",
    "    # Lee el contenido del archivo json como diccionatio\n",
    "    with open(os.path.join(path_to_json, js)) as json_file:\n",
    "\n",
    "        data = json.load(json_file)\n",
    "\n",
    "    \n",
    "    for x in data:\n",
    "        x['_id'] = ObjectId(x['_id']['$oid'])\n",
    "        \n",
    "    db.insert_many(data)\n",
    "    "
   ]
  },
  {
   "cell_type": "code",
   "execution_count": 17,
   "metadata": {},
   "outputs": [
    {
     "data": {
      "text/plain": [
       "'627dc4e6d0d9327b764d12f6'"
      ]
     },
     "execution_count": 17,
     "metadata": {},
     "output_type": "execute_result"
    }
   ],
   "source": [
    "data[0]['_id']['$oid']"
   ]
  },
  {
   "cell_type": "code",
   "execution_count": 19,
   "metadata": {},
   "outputs": [],
   "source": [
    "\n",
    "for x in data:\n",
    "\n",
    "    x['_id'] = ObjectId(x['_id']['$oid'])\n",
    "\n",
    "\n"
   ]
  },
  {
   "cell_type": "code",
   "execution_count": 20,
   "metadata": {},
   "outputs": [
    {
     "data": {
      "text/plain": [
       "{'_id': ObjectId('627dc4e6d0d9327b764d12f6'),\n",
       " 'extensions': ['https://raw.githubusercontent.com/CompraNet/ocds_schemeUrl_extension/master/extension.json',\n",
       "  'https://raw.githubusercontent.com/compranet-dev/ocds_frameworkAgreement_extension/main/extension.json'],\n",
       " 'license': 'https://datos.gob.mx/libreusomx',\n",
       " 'publicationPolicy': 'https://compranetinfo.hacienda.gob.mx/descargas/politica-publicacion-EDCA-MX.pdf',\n",
       " 'publishedDate': '2022-05-12T18:44:28Z',\n",
       " 'publisher': {'name': 'SECRETARÃ\\x8dA DE HACIENDA Y CRÃ\\x89DITO PÃ\\x9aBLICO',\n",
       "  'uid': '6716',\n",
       "  'uri': 'http://www.gob.mx/shcp'},\n",
       " 'releases': [{'awards': [{'contractPeriod': {'endDate': '2021-12-31T23:59:00Z',\n",
       "      'startDate': '2021-05-01T00:00:00Z'},\n",
       "     'description': 'SERVICIOS TÉCNICOS DE ASISTENTE ESPECIALIZADO EN INVESTIGACIÓN HISTÓRICA',\n",
       "     'id': '2557640',\n",
       "     'items': [{'classification': {'description': 'Estudios e investigaciones',\n",
       "        'id': '33900001',\n",
       "        'scheme': 'CUCOP',\n",
       "        'uri': 'https://compranetinfo.hacienda.gob.mx/descargas/CUCOP.xlsx'},\n",
       "       'description': 'ERVICIOS TÉCNICOS DE ASISTENTE ESPECIALIZADO EN INVESTIGACIÓN HISTÓRICA',\n",
       "       'id': '7046216',\n",
       "       'quantity': 1,\n",
       "       'unit': {'name': 'Servicio',\n",
       "        'value': {'amount': 80075.86, 'currency': 'MXN'}}}],\n",
       "     'status': 'active',\n",
       "     'suppliers': [{'id': '511195D15385987B928402218127D88E',\n",
       "       'name': 'DANIELA MÉNDEZ CANO'}],\n",
       "     'title': 'SERVICIOS TÉCNICOS DE ASISTENTE ESPECIALIZADO EN INVESTIGACIÓN HISTÓRICA',\n",
       "     'value': {'amount': 80075.86, 'currency': 'MXN'}}],\n",
       "   'buyer': {'id': 'INAH-195',\n",
       "    'name': 'Instituto Nacional de Antropología e Historia'},\n",
       "   'contracts': [{'awardID': '2557640',\n",
       "     'description': 'SERVICIOS TÉCNICOS DE ASISTENTE ESPECIALIZADO EN INVESTIGACIÓN HISTÓRICA',\n",
       "     'id': 2557640,\n",
       "     'items': [{'classification': {'description': 'Estudios e investigaciones',\n",
       "        'id': '33900001',\n",
       "        'scheme': 'CUCOP',\n",
       "        'uri': 'https://compranetinfo.hacienda.gob.mx/descargas/CUCoP_04Mayo2022.xlsx'},\n",
       "       'description': 'ERVICIOS TÉCNICOS DE ASISTENTE ESPECIALIZADO EN INVESTIGACIÓN HISTÓRICA',\n",
       "       'id': '7046216',\n",
       "       'quantity': 1,\n",
       "       'unit': {'name': 'Servicio',\n",
       "        'value': {'amount': 80075.86, 'currency': 'MXN'}}}],\n",
       "     'period': {'endDate': '2021-12-31T23:59:00Z',\n",
       "      'startDate': '2021-05-01T00:00:00Z'},\n",
       "     'status': 'terminated',\n",
       "     'title': 'SERVICIOS TÉCNICOS DE ASISTENTE ESPECIALIZADO EN INVESTIGACIÓN HISTÓRICA',\n",
       "     'value': {'amount': 80075.86, 'currency': 'MXN'}}],\n",
       "   'date': '2022-05-12T18:44:28Z',\n",
       "   'id': 'SHCP-2305522-2022-05-12',\n",
       "   'initiationType': 'tender',\n",
       "   'language': 'es',\n",
       "   'ocid': 'ocds-07smqs-2305522',\n",
       "   'parties': [{'address': {'countryName': 'MX',\n",
       "      'locality': 'Cuauhtémoc',\n",
       "      'postalCode': '06600',\n",
       "      'region': 'Ciudad de México',\n",
       "      'streetAddress': 'Calle Hamburgo, número 135'},\n",
       "     'contactPoint': {'email': 'luis_nunez@inah.gob.mx',\n",
       "      'name': 'Luis Enrique Núñez Gayosso',\n",
       "      'telephone': '55 41660780'},\n",
       "     'id': 'INAH-195',\n",
       "     'identifier': {'id': 'INA460815GV1-048D00001',\n",
       "      'legalName': 'INAH-Coordinación Nacional de Recursos Materiales y Servicios #048D00001',\n",
       "      'scheme': 'MX-RFC',\n",
       "      'uri': 'https://portalsat.plataforma.sat.gob.mx/ConsultaRFC'},\n",
       "     'name': 'Instituto Nacional de Antropología e Historia',\n",
       "     'roles': ['buyer']},\n",
       "    {'address': {'countryName': 'MX',\n",
       "      'locality': 'Cuauhtémoc',\n",
       "      'postalCode': '06600',\n",
       "      'region': 'Ciudad de México',\n",
       "      'streetAddress': 'Calle Hamburgo, número 135'},\n",
       "     'contactPoint': {'email': 'luis_nunez@inah.gob.mx',\n",
       "      'name': 'Luis Enrique Núñez Gayosso',\n",
       "      'telephone': '55 41660780'},\n",
       "     'id': 'INA460815GV1-048D00001',\n",
       "     'identifier': {'id': 'INA460815GV1-048D00001',\n",
       "      'legalName': 'INAH-Coordinación Nacional de Recursos Materiales y Servicios #048D00001',\n",
       "      'scheme': 'MX-RFC',\n",
       "      'uri': 'https://portalsat.plataforma.sat.gob.mx/ConsultaRFC'},\n",
       "     'name': 'INAH-Coordinación Nacional de Recursos Materiales y Servicios #048D00001',\n",
       "     'roles': ['procuringEntity']},\n",
       "    {'address': {'countryName': 'MÉXICO',\n",
       "      'locality': 'Gustavo A Madero',\n",
       "      'region': 'MX-CMX'},\n",
       "     'contactPoint': {'email': 'horacio_amaya@inah.gob.mx',\n",
       "      'name': \"- (Cuenta administrada por 'INAH-Coordinación Nacional de Recursos Materiales y Servicios #048D00001')\"},\n",
       "     'id': '511195D15385987B928402218127D88E',\n",
       "     'identifier': {'id': '511195D15385987B928402218127D88E',\n",
       "      'legalName': 'DANIELA MÉNDEZ CANO',\n",
       "      'scheme': 'MX-RFC',\n",
       "      'uri': 'https://portalsat.plataforma.sat.gob.mx/ConsultaRFC'},\n",
       "     'name': 'DANIELA MÉNDEZ CANO',\n",
       "     'roles': ['tenderer', 'supplier']}],\n",
       "   'tag': ['tender', 'award'],\n",
       "   'tender': {'awardPeriod': {'endDate': '2021-05-01T00:00:00Z'},\n",
       "    'description': 'SERVICIOS TÉCNICOS DE ASISTENTE ESPECIALIZADO EN INVESTIGACIÓN HISTÓRICA',\n",
       "    'enquiryPeriod': {'startDate': '2021-08-03T19:47:00Z'},\n",
       "    'hasEnquiries': False,\n",
       "    'id': '2305522',\n",
       "    'procurementMethod': 'direct',\n",
       "    'procurementMethodRationale': 'Art. 42 párrafo primero',\n",
       "    'procuringEntity': {'id': 'INA460815GV1-048D00001',\n",
       "     'name': 'INAH-Coordinación Nacional de Recursos Materiales y Servicios #048D00001'},\n",
       "    'status': 'complete',\n",
       "    'submissionMethod': ['inPerson'],\n",
       "    'tenderPeriod': {'startDate': '2021-08-03T19:47:00Z'},\n",
       "    'title': 'SERVICIOS TÉCNICOS DE ASISTENTE ESPECIALIZADO EN INVESTIGACIÓN HISTÓRICA'}}],\n",
       " 'uri': 'http://172.23.106.220:8080/OCDSWS/rest/ocid/ocds-07smqs-2305522',\n",
       " 'version': '1.1'}"
      ]
     },
     "execution_count": 20,
     "metadata": {},
     "output_type": "execute_result"
    }
   ],
   "source": [
    "data[0]"
   ]
  }
 ],
 "metadata": {
  "kernelspec": {
   "display_name": "base",
   "language": "python",
   "name": "python3"
  },
  "language_info": {
   "codemirror_mode": {
    "name": "ipython",
    "version": 3
   },
   "file_extension": ".py",
   "mimetype": "text/x-python",
   "name": "python",
   "nbconvert_exporter": "python",
   "pygments_lexer": "ipython3",
   "version": "3.8.15"
  },
  "orig_nbformat": 4,
  "vscode": {
   "interpreter": {
    "hash": "9bc5e7765ec7e1c00bce95d38c73b1329b3db324e247031a5deabeb5b6a869e0"
   }
  }
 },
 "nbformat": 4,
 "nbformat_minor": 2
}
