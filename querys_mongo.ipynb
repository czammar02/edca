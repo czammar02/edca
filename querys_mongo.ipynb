{
 "cells": [
  {
   "attachments": {},
   "cell_type": "markdown",
   "metadata": {},
   "source": [
    "# Mongo"
   ]
  },
  {
   "cell_type": "code",
   "execution_count": 1,
   "metadata": {},
   "outputs": [],
   "source": [
    "import pymongo\n",
    "import json\n",
    "import os\n",
    "from bson import ObjectId\n",
    "import pandas as pd\n",
    "from tqdm.notebook import tqdm"
   ]
  },
  {
   "cell_type": "code",
   "execution_count": 2,
   "metadata": {},
   "outputs": [],
   "source": [
    "# String de conexion a mongo en local\n",
    "CONN_STRING = \"mongodb://127.0.0.1:27017/?readPreference=primary&serverSelectionTimeoutMS=2000&directConnection=true&ssl=false\""
   ]
  },
  {
   "cell_type": "code",
   "execution_count": 3,
   "metadata": {},
   "outputs": [],
   "source": [
    "# creamos un cliente para interactuar con mongo\n",
    "myclient = pymongo.MongoClient(CONN_STRING)"
   ]
  },
  {
   "attachments": {},
   "cell_type": "markdown",
   "metadata": {},
   "source": [
    "# 0. Uploading all jsons to Mongo"
   ]
  },
  {
   "cell_type": "code",
   "execution_count": 4,
   "metadata": {},
   "outputs": [],
   "source": [
    "# conexion a la base edca.raw para colocar los json descargados\n",
    "db_raw = myclient[\"edca\"][\"raw\"]"
   ]
  },
  {
   "cell_type": "code",
   "execution_count": 5,
   "metadata": {},
   "outputs": [],
   "source": [
    "myclient.close()"
   ]
  },
  {
   "cell_type": "code",
   "execution_count": 6,
   "metadata": {},
   "outputs": [],
   "source": [
    "df = pd.DataFrame({\"a\": range(10), \"b:\": [1 for _ in range(10)]})"
   ]
  },
  {
   "cell_type": "code",
   "execution_count": 7,
   "metadata": {},
   "outputs": [],
   "source": [
    "df.to_csv(\"write_test.csv.zip\", index=False,compression='zip')"
   ]
  },
  {
   "cell_type": "code",
   "execution_count": 8,
   "metadata": {},
   "outputs": [],
   "source": [
    "# Nombre de los archivos json en la carpeta de trabajo\n",
    "path_to_json = './contratacionesabiertas_bulk_paquetes_json/'\n",
    "json_files = [pos_json for pos_json in os.listdir(path_to_json) if pos_json.endswith('.json')]"
   ]
  },
  {
   "cell_type": "code",
   "execution_count": 9,
   "metadata": {},
   "outputs": [],
   "source": [
    "# for i in tqdm(range(1,99)):\n",
    "# \n",
    "#     json_files = f'contratacionesabiertas_bulk_paquete{i}.json'\n",
    "#     # print('Uploading',json_files)\n",
    "# \n",
    "#     # Lee el contenido del archivo json como diccionatio\n",
    "#     with open('./contratacionesabiertas_bulk_paquetes_json/'+json_files) as json_file:\n",
    "# \n",
    "#         data = json.load(json_file)\n",
    "#     \n",
    "#     for x in data:\n",
    "#         x['_id'] = ObjectId(x['_id']['$oid'])\n",
    "#         x['paquete'] = i\n",
    "#         \n",
    "#     db_raw.insert_many(data)"
   ]
  },
  {
   "attachments": {},
   "cell_type": "markdown",
   "metadata": {},
   "source": [
    "# 1. Querys en mongo"
   ]
  },
  {
   "attachments": {},
   "cell_type": "markdown",
   "metadata": {},
   "source": [
    "## 1.1 Informacion general de la licitacion"
   ]
  },
  {
   "cell_type": "code",
   "execution_count": 10,
   "metadata": {},
   "outputs": [],
   "source": [
    "def get_query_generals(i: int)-> list:\n",
    "    \"\"\"\n",
    "    Obtain the general pipeline query for i-th package\n",
    "    \"\"\"\n",
    "\n",
    "    query_generals = [\n",
    "        {\n",
    "        \"$match\": {\"paquete\": i}\n",
    "        },\n",
    "        {\n",
    "            '$unwind': {\n",
    "                'path': '$releases', \n",
    "                'includeArrayIndex': 'release_index', \n",
    "                'preserveNullAndEmptyArrays': True\n",
    "            }\n",
    "        }, {\n",
    "            '$project': {\n",
    "                'paquete': 1,\n",
    "                'release_index': '$release_index', \n",
    "                'releases_id': '$releases.id', \n",
    "                'releases_date': '$releases.date', \n",
    "                'releases_ocid': '$releases.ocid', \n",
    "                'parties': '$releases.parties', \n",
    "                'fecha_fallo': '$releases.tender.awardPeriod.endDate', \n",
    "                'codigo_expediente': '$releases.tender.id', \n",
    "                'parties': '$releases.parties'\n",
    "            }\n",
    "        }, {\n",
    "            '$project': {\n",
    "                'paquete': 1,\n",
    "                'release_index': 1, \n",
    "                'releases_id': 1, \n",
    "                'releases_date': 1, \n",
    "                'releases_ocid': 1, \n",
    "                'codigo_expediente': 1, \n",
    "                'numero_ganadores': {\n",
    "                    '$size': {\n",
    "                        '$filter': {\n",
    "                            'input': '$parties', \n",
    "                            'as': 'e', \n",
    "                            'cond': {\n",
    "                                '$eq': [\n",
    "                                    '$$e.roles', [\n",
    "                                        'tenderer', 'supplier'\n",
    "                                    ]\n",
    "                                ]\n",
    "                            }\n",
    "                        }\n",
    "                    }\n",
    "                }, \n",
    "                'numero_participantes': {\n",
    "                    '$size': {\n",
    "                        '$filter': {\n",
    "                            'input': '$parties', \n",
    "                            'as': 'e', \n",
    "                            'cond': {\n",
    "                                '$or': [\n",
    "                                    {\n",
    "                                        '$eq': [\n",
    "                                            '$$e.roles', [\n",
    "                                                'tenderer'\n",
    "                                            ]\n",
    "                                        ]\n",
    "                                    }, {\n",
    "                                        '$eq': [\n",
    "                                            '$$e.roles', [\n",
    "                                                'tenderer', 'supplier'\n",
    "                                            ]\n",
    "                                        ]\n",
    "                                    }\n",
    "                                ]\n",
    "                            }\n",
    "                        }\n",
    "                    }\n",
    "                },\n",
    "                'participantes':{\n",
    "                         '$filter': {\n",
    "                            'input': '$parties', \n",
    "                            'as': 'e', \n",
    "                            'cond': {\n",
    "                                '$or': [\n",
    "                                    {\n",
    "                                        '$eq': [\n",
    "                                            '$$e.roles', [\n",
    "                                                'tenderer'\n",
    "                                            ]\n",
    "                                        ]\n",
    "                                    }, {\n",
    "                                        '$eq': [\n",
    "                                            '$$e.roles', [\n",
    "                                                'tenderer', 'supplier'\n",
    "                                            ]\n",
    "                                        ]\n",
    "                                    }\n",
    "                                ]\n",
    "                            }\n",
    "                        }       \n",
    "                },\n",
    "                'ganadores': {\n",
    "                    '$filter': {\n",
    "                        'input': '$parties', \n",
    "                        'as': 'e', \n",
    "                        'cond': {\n",
    "                            '$eq': [\n",
    "                                '$$e.roles', [\n",
    "                                    'tenderer', 'supplier'\n",
    "                                ]\n",
    "                            ]\n",
    "                        }\n",
    "                    }\n",
    "                }, \n",
    "                'fecha_fallo': 1, \n",
    "                'parties': 1\n",
    "            }\n",
    "        }, {\n",
    "            '$project': {\n",
    "                'paquete': 1,\n",
    "                'release_index': 1, \n",
    "                'releases_id': 1, \n",
    "                'releases_date': 1, \n",
    "                'releases_ocid': 1, \n",
    "                'codigo_expediente': 1, \n",
    "                'numero_ganadores': 1, \n",
    "                'numero_participantes': 1,\n",
    "                'nombre_participantes': {\n",
    "                    '$filter': {\n",
    "                        'input': '$participantes.name', \n",
    "                        'as': 'e', \n",
    "                        'cond': {\n",
    "                            '$eq': [\n",
    "                                1, 1\n",
    "                            ]\n",
    "                        }\n",
    "                    }\n",
    "                }, \n",
    "                'nombre_ganadores': {\n",
    "                    '$filter': {\n",
    "                        'input': '$ganadores.name', \n",
    "                        'as': 'e', \n",
    "                        'cond': {\n",
    "                            '$eq': [\n",
    "                                1, 1\n",
    "                            ]\n",
    "                        }\n",
    "                    }\n",
    "                }, \n",
    "                'fecha_fallo': 1, \n",
    "                'parties': 1\n",
    "            }\n",
    "        }, {\n",
    "            '$project': {\n",
    "                'paquete': 1,\n",
    "                'release_index': 1, \n",
    "                'releases_id': 1, \n",
    "                'releases_date': 1, \n",
    "                'releases_ocid': 1, \n",
    "                'codigo_expediente': 1, \n",
    "                'numero_ganadores': 1, \n",
    "                'numero_participantes': 1,\n",
    "                'nombre_participantes': {\n",
    "                    '$reduce': {\n",
    "                        'input': '$nombre_participantes', \n",
    "                        'initialValue': '', \n",
    "                        'in': {\n",
    "                            '$concat': [\n",
    "                                '$$value', '$$this', ';'\n",
    "                            ]\n",
    "                        }\n",
    "                    }\n",
    "                },\n",
    "                'nombre_ganadores': {\n",
    "                    '$reduce': {\n",
    "                        'input': '$nombre_ganadores', \n",
    "                        'initialValue': '', \n",
    "                        'in': {\n",
    "                            '$concat': [\n",
    "                                '$$value', '$$this', ';'\n",
    "                            ]\n",
    "                        }\n",
    "                    }\n",
    "                }, \n",
    "                'fecha_fallo': 1, \n",
    "                'parties': {\n",
    "                    '$filter': {\n",
    "                        'input': '$parties', \n",
    "                        'as': 'p', \n",
    "                        'cond': {\n",
    "                            '$eq': [\n",
    "                                '$$p.roles', [\n",
    "                                    'procuringEntity'\n",
    "                                ]\n",
    "                            ]\n",
    "                        }\n",
    "                    }\n",
    "                }\n",
    "            }\n",
    "        }, {\n",
    "            '$unwind': {\n",
    "                'path': '$parties', \n",
    "                'includeArrayIndex': 'parties_index', \n",
    "                'preserveNullAndEmptyArrays': True\n",
    "            }\n",
    "        }, {\n",
    "            '$project': {\n",
    "                'paquete': 1,\n",
    "                '_id': 0,\n",
    "                'release_index': 1, \n",
    "                'releases_id': 1, \n",
    "                'releases_date': 1, \n",
    "                'releases_ocid': 1, \n",
    "                'codigo_expediente': 1, \n",
    "                'numero_ganadores': 1, \n",
    "                'numero_participantes': 1, \n",
    "                'nombre_participantes': 1,\n",
    "                'nombre_ganadores': 1, \n",
    "                'fecha_fallo': 1, \n",
    "                'procuring_entity_country_name': '$parties.address.countryName', \n",
    "                'procuring_entity_locality': '$parties.address.locality', \n",
    "                'procuring_entity_postal_code': '$parties.address.postalCode', \n",
    "                'procuring_entity_region': '$parties.address.region', \n",
    "                'procuring_entity_street_addess': '$parties.address.streetAddress'\n",
    "            }\n",
    "        }\n",
    "    ]\n",
    "\n",
    "    return query_generals"
   ]
  },
  {
   "attachments": {},
   "cell_type": "markdown",
   "metadata": {},
   "source": [
    "## 1.2 Informacion de awards por items de la licitacion"
   ]
  },
  {
   "cell_type": "code",
   "execution_count": 11,
   "metadata": {},
   "outputs": [],
   "source": [
    "def get_award_items(i: int)-> list:\n",
    "    \"\"\"\n",
    "    Obtain the general pipeline query for i-th package\n",
    "    \"\"\"\n",
    "\n",
    "    query_award_items = [\n",
    "        {\n",
    "            \"$match\": {\"paquete\": i}\n",
    "        },\n",
    "        {\n",
    "            '$unwind': {\n",
    "                'path': '$releases', \n",
    "                'includeArrayIndex': 'release_index', \n",
    "                'preserveNullAndEmptyArrays': True\n",
    "            }\n",
    "        }, {\n",
    "            '$project': {\n",
    "                'paquete': 1,\n",
    "                'release_index': '$release_index', \n",
    "                'releases_id': '$releases.id', \n",
    "                'releases_date': '$releases.date', \n",
    "                'releases_ocid': '$releases.ocid', \n",
    "                'codigo_expediente': '$releases.tender.id', \n",
    "                'parties': '$releases.parties', \n",
    "                'awards': '$releases.awards'\n",
    "            }\n",
    "        }, {\n",
    "            '$unwind': {\n",
    "                'path': '$awards', \n",
    "                'includeArrayIndex': 'award_index', \n",
    "                'preserveNullAndEmptyArrays': True\n",
    "            }\n",
    "        }, {\n",
    "            '$project': {\n",
    "                'paquete': 1,\n",
    "                'release_index': 1, \n",
    "                'releases_id': 1, \n",
    "                'releases_date': 1, \n",
    "                'releases_ocid': 1, \n",
    "                'codigo_expediente': 1,\n",
    "                'parties': 1, \n",
    "                'awards_contract_period_enddate': '$awards.contractPeriod.endDate', \n",
    "                'awards_contract_period_startdate': '$awards.contractPeriod.startDate', \n",
    "                'award_description': '$awards.description', \n",
    "                'award_id': '$awards.id', \n",
    "                'award_items': '$awards.items', \n",
    "                'award_suppliers': '$awards.suppliers', \n",
    "                'award_title': '$awards.title', \n",
    "                'award_value_amount': '$awards.value.amount', \n",
    "                'award_value_currency': '$awards.value.currency'\n",
    "            }\n",
    "        }, {\n",
    "            '$unwind': {\n",
    "                'path': '$award_suppliers', \n",
    "                'includeArrayIndex': 'award_suppliers_index', \n",
    "                'preserveNullAndEmptyArrays': True\n",
    "            }\n",
    "        }, {\n",
    "            '$project': {\n",
    "                'paquete': 1,\n",
    "                'release_index': 1, \n",
    "                'releases_id': 1, \n",
    "                'releases_date': 1, \n",
    "                'releases_ocid': 1, \n",
    "                'codigo_expediente': 1,\n",
    "                'parties': 1, \n",
    "                'awards_contract_period_enddate': 1, \n",
    "                'awards_contract_period_startdate': 1, \n",
    "                'award_description': 1, \n",
    "                'award_id': 1, \n",
    "                'award_items': 1, \n",
    "                'award_title': 1, \n",
    "                'award_value_amount': 1, \n",
    "                'award_value_currency': 1, \n",
    "                'award_suppliers_id': '$award_suppliers.id', \n",
    "                'award_suppliers_name': '$award_suppliers.name', \n",
    "                'award_suppliers_award_title': '$award_suppliers.award_title'\n",
    "            }\n",
    "        }, {\n",
    "            '$unwind': {\n",
    "                'path': '$award_items', \n",
    "                'includeArrayIndex': 'award_suppliers_items_index', \n",
    "                'preserveNullAndEmptyArrays': True\n",
    "            }\n",
    "        }, {\n",
    "            '$project': {\n",
    "                'paquete': 1,\n",
    "                'release_index': 1, \n",
    "                'releases_id': 1, \n",
    "                'releases_date': 1, \n",
    "                'releases_ocid': 1, \n",
    "                'codigo_expediente': 1,\n",
    "                'parties': 1, \n",
    "                'awards_contract_period_enddate': 1, \n",
    "                'awards_contract_period_startdate': 1, \n",
    "                'award_description': 1, \n",
    "                'award_id': 1, \n",
    "                'award_title': 1, \n",
    "                'award_value_amount': 1, \n",
    "                'award_value_currency': 1, \n",
    "                'award_suppliers_id': 1, \n",
    "                'award_suppliers_name': 1, \n",
    "                'award_suppliers_award_title': 1, \n",
    "                'award_items_classification_description': '$award_items.classification.description', \n",
    "                'award_items_classification_id': '$award_items.classification.id', \n",
    "                'award_items_classification_scheme': '$award_items.classification.scheme', \n",
    "                'award_items_description': '$award_items.description', \n",
    "                'award_items_id': '$award_items.id', \n",
    "                'award_items_quantity': '$award_items.quantity', \n",
    "                'award_items_unit_name': '$award_items.unit.name', \n",
    "                'award_items_unit_value_amount': '$award_items.unit.value.amount', \n",
    "                'award_items_unit_value_currency': '$award_items.unit.value.currency', \n",
    "                'award_suppliers_items_index': 1\n",
    "            }\n",
    "        }, {\n",
    "            '$unwind': {\n",
    "                'path': '$parties', \n",
    "                'includeArrayIndex': 'parties_index', \n",
    "                'preserveNullAndEmptyArrays': True\n",
    "            }\n",
    "        }, {\n",
    "            '$project': {\n",
    "                'paquete': 1,\n",
    "                'release_index': 1, \n",
    "                'releases_id': 1, \n",
    "                'releases_date': 1, \n",
    "                'releases_ocid': 1,\n",
    "                'codigo_expediente': 1, \n",
    "                'awards_contract_period_enddate': 1, \n",
    "                'awards_contract_period_startdate': 1, \n",
    "                'award_description': 1, \n",
    "                'award_id': 1, \n",
    "                'award_title': 1, \n",
    "                'award_value_amount': 1, \n",
    "                'award_value_currency': 1, \n",
    "                'award_suppliers_id': 1, \n",
    "                'award_suppliers_name': 1, \n",
    "                'award_suppliers_award_title': 1, \n",
    "                'award_items_classification_description': 1, \n",
    "                'award_items_classification_id': 1, \n",
    "                'award_items_classification_scheme': 1, \n",
    "                'award_items_description': 1, \n",
    "                'award_items_id': 1, \n",
    "                'award_items_quantity': 1, \n",
    "                'award_items_unit_name': 1, \n",
    "                'award_items_unit_value_amount': 1, \n",
    "                'award_items_unit_value_currency': 1, \n",
    "                'award_suppliers_items_index': 1, \n",
    "                'parties_index': 1,\n",
    "                'parties_identifier_id':\"$parties.identifier.id\",\n",
    "                'parties_name': \"$parties.name\", \n",
    "                'parties_address_country_name': '$parties.address.countryName', \n",
    "                'parties_address_locality': '$parties.address.locality', \n",
    "                'parties_address_postal_code': '$parties.address.postalCode', \n",
    "                'parties_address_region': '$parties.address.region', \n",
    "                'parties_address_street_address': '$parties.address.streetAddress', \n",
    "                'parties_roles': '$parties.roles'\n",
    "            }\n",
    "        }, {\n",
    "            '$unwind': {\n",
    "                'path': '$parties_roles', \n",
    "                'includeArrayIndex': 'parties_roles_index', \n",
    "                'preserveNullAndEmptyArrays': True\n",
    "            }\n",
    "        }, {\n",
    "            '$match': {\n",
    "                'parties_roles': 'supplier'\n",
    "            }\n",
    "        }, {\n",
    "            '$project': {\n",
    "                '_id': 0,\n",
    "                'paquete': 1,\n",
    "                'release_index': 1, \n",
    "                'releases_id': 1, \n",
    "                'releases_date': 1, \n",
    "                'releases_ocid': 1, \n",
    "                'codigo_expediente': 1,\n",
    "                'awards_contract_period_enddate': 1, \n",
    "                'awards_contract_period_startdate': 1, \n",
    "                'award_description': 1, \n",
    "                'award_id': 1, \n",
    "                'award_title': 1, \n",
    "                'award_value_amount': 1, \n",
    "                'award_value_currency': 1, \n",
    "                'award_suppliers_id': 1, \n",
    "                'award_suppliers_name': 1, \n",
    "                'award_suppliers_award_title': 1, \n",
    "                'award_items_classification_description': 1, \n",
    "                'award_items_classification_id': 1, \n",
    "                'award_items_classification_scheme': 1, \n",
    "                'award_items_description': 1, \n",
    "                'award_items_id': 1, \n",
    "                'award_items_quantity': 1, \n",
    "                'award_items_unit_name': 1, \n",
    "                'award_items_unit_value_amount': 1, \n",
    "                'award_items_unit_value_currency': 1, \n",
    "                'award_suppliers_items_index': 1, \n",
    "                'supplier_index': '$parties_index',\n",
    "                'supplier_id': \"$parties_identifier_id\",\n",
    "                'supplier_name': \"$parties_identifier_name\",\n",
    "                'supplier_address_country_name': '$parties_address_country_name', \n",
    "                'supplier_address_locality': '$parties_address_locality', \n",
    "                'supplier_address_postal_code': '$parties_address_postal_code', \n",
    "                'supplier_address_region': '$parties_address_region', \n",
    "                'supplier_address_street_address': '$parties_address_street_address', \n",
    "                'supplier_roles': '$parties.roles',\n",
    "                'check': {'$eq': ['$award_suppliers_id','$parties_identifier_id']}\n",
    "  \n",
    "            }\n",
    "        },\n",
    "        {\n",
    "        '$match': {'check': True}  \n",
    "        }\n",
    "    ]\n",
    "\n",
    "    return query_award_items"
   ]
  },
  {
   "attachments": {},
   "cell_type": "markdown",
   "metadata": {},
   "source": [
    "### Generals Extraction"
   ]
  },
  {
   "cell_type": "code",
   "execution_count": 11,
   "metadata": {},
   "outputs": [
    {
     "data": {
      "application/vnd.jupyter.widget-view+json": {
       "model_id": "cae2b293a5ee4f48bc6088d415b6513a",
       "version_major": 2,
       "version_minor": 0
      },
      "text/plain": [
       "  0%|          | 0/98 [00:00<?, ?it/s]"
      ]
     },
     "metadata": {},
     "output_type": "display_data"
    },
    {
     "name": "stdout",
     "output_type": "stream",
     "text": [
      "writing generals - paquete 1\n",
      "writing generals - paquete 2\n",
      "writing generals - paquete 3\n",
      "writing generals - paquete 4\n",
      "writing generals - paquete 5\n",
      "writing generals - paquete 6\n",
      "writing generals - paquete 7\n",
      "writing generals - paquete 8\n",
      "writing generals - paquete 9\n",
      "writing generals - paquete 10\n",
      "writing generals - paquete 11\n",
      "writing generals - paquete 12\n",
      "writing generals - paquete 13\n",
      "writing generals - paquete 14\n",
      "writing generals - paquete 15\n",
      "writing generals - paquete 16\n",
      "writing generals - paquete 17\n",
      "writing generals - paquete 18\n",
      "writing generals - paquete 19\n",
      "writing generals - paquete 20\n",
      "writing generals - paquete 21\n",
      "writing generals - paquete 22\n",
      "writing generals - paquete 23\n",
      "writing generals - paquete 24\n",
      "writing generals - paquete 25\n",
      "writing generals - paquete 26\n",
      "writing generals - paquete 27\n",
      "writing generals - paquete 28\n",
      "writing generals - paquete 29\n",
      "writing generals - paquete 30\n",
      "writing generals - paquete 31\n",
      "writing generals - paquete 32\n",
      "writing generals - paquete 33\n",
      "writing generals - paquete 34\n",
      "writing generals - paquete 35\n",
      "writing generals - paquete 36\n",
      "writing generals - paquete 37\n",
      "writing generals - paquete 38\n",
      "writing generals - paquete 39\n",
      "writing generals - paquete 40\n",
      "writing generals - paquete 41\n",
      "writing generals - paquete 42\n",
      "writing generals - paquete 43\n",
      "writing generals - paquete 44\n",
      "writing generals - paquete 45\n",
      "writing generals - paquete 46\n",
      "writing generals - paquete 47\n",
      "writing generals - paquete 48\n",
      "writing generals - paquete 49\n",
      "writing generals - paquete 50\n",
      "writing generals - paquete 51\n",
      "writing generals - paquete 52\n",
      "writing generals - paquete 53\n",
      "writing generals - paquete 54\n",
      "writing generals - paquete 55\n",
      "writing generals - paquete 56\n",
      "writing generals - paquete 57\n",
      "writing generals - paquete 58\n",
      "writing generals - paquete 59\n",
      "writing generals - paquete 60\n",
      "writing generals - paquete 61\n",
      "writing generals - paquete 62\n",
      "writing generals - paquete 63\n",
      "writing generals - paquete 64\n",
      "writing generals - paquete 65\n",
      "writing generals - paquete 66\n",
      "writing generals - paquete 67\n",
      "writing generals - paquete 68\n",
      "writing generals - paquete 69\n",
      "writing generals - paquete 70\n",
      "writing generals - paquete 71\n",
      "writing generals - paquete 72\n",
      "writing generals - paquete 73\n",
      "writing generals - paquete 74\n",
      "writing generals - paquete 75\n",
      "writing generals - paquete 76\n",
      "writing generals - paquete 77\n",
      "writing generals - paquete 78\n",
      "writing generals - paquete 79\n",
      "writing generals - paquete 80\n",
      "writing generals - paquete 81\n",
      "writing generals - paquete 82\n",
      "writing generals - paquete 83\n",
      "writing generals - paquete 84\n",
      "writing generals - paquete 85\n",
      "writing generals - paquete 86\n",
      "writing generals - paquete 87\n",
      "writing generals - paquete 88\n",
      "writing generals - paquete 89\n",
      "writing generals - paquete 90\n",
      "writing generals - paquete 91\n",
      "writing generals - paquete 92\n",
      "writing generals - paquete 93\n",
      "writing generals - paquete 94\n",
      "writing generals - paquete 95\n",
      "writing generals - paquete 96\n",
      "writing generals - paquete 97\n",
      "writing generals - paquete 98\n"
     ]
    }
   ],
   "source": [
    "for i in tqdm(range(1,99)):\n",
    "\n",
    "    try:\n",
    "        # creamos un cliente para interactuar con mongo\n",
    "        myclient = pymongo.MongoClient(CONN_STRING)\n",
    "        # conexion a la base edca.raw para colocar los json descargados\n",
    "        db_raw = myclient[\"edca\"][\"raw\"]\n",
    "\n",
    "        generals_results = db_raw.aggregate(\n",
    "            pipeline=get_query_generals(i)\n",
    "            )\n",
    "        \n",
    "        myclient.close()\n",
    "\n",
    "        generals = pd.DataFrame(generals_results)\n",
    "\n",
    "        try:\n",
    "            generals['releases_date'] = pd.to_datetime(generals['releases_date'])\n",
    "        except:\n",
    "            pass\n",
    "\n",
    "        print(f\"writing generals - paquete {i}\")\n",
    "\n",
    "        generals.to_csv(\n",
    "            f'./processed/generals/generals_{i}.csv.zip',\n",
    "            index=False,\n",
    "            compression=\"zip\"\n",
    "            )\n",
    "\n",
    "    except:\n",
    "        print(f\"Error on package {i}\")\n",
    "        pass"
   ]
  },
  {
   "attachments": {},
   "cell_type": "markdown",
   "metadata": {},
   "source": [
    "### Awards-Items Extraction"
   ]
  },
  {
   "cell_type": "code",
   "execution_count": 13,
   "metadata": {},
   "outputs": [
    {
     "data": {
      "application/vnd.jupyter.widget-view+json": {
       "model_id": "aefd64a2b6104e9b8ff95b577b6ea80f",
       "version_major": 2,
       "version_minor": 0
      },
      "text/plain": [
       "  0%|          | 0/97 [00:00<?, ?it/s]"
      ]
     },
     "metadata": {},
     "output_type": "display_data"
    }
   ],
   "source": [
    "for i in tqdm(range(1,99)):\n",
    "    try:\n",
    "\n",
    "        # creamos un cliente para interactuar con mongo\n",
    "        myclient = pymongo.MongoClient(CONN_STRING)\n",
    "        # conexion a la base edca.raw para colocar los json descargados\n",
    "        db_raw = myclient[\"edca\"][\"raw\"]\n",
    "\n",
    "        award_items_results = db_raw.aggregate(\n",
    "                    pipeline=get_award_items(i)\n",
    "                    )\n",
    "\n",
    "        award_items = pd.DataFrame(award_items_results)\n",
    "\n",
    "        myclient.close()\n",
    "\n",
    "        try:\n",
    "            award_items['releases_date'] = pd.to_datetime(award_items['releases_date'])\n",
    "        except:\n",
    "            pass\n",
    "\n",
    "        try:\n",
    "            award_items['awards_contract_period_enddate'] = pd.to_datetime(award_items['awards_contract_period_enddate'])\n",
    "        except:\n",
    "            pass\n",
    "\n",
    "        try:\n",
    "            award_items['awards_contract_period_startdate'] = pd.to_datetime(award_items['awards_contract_period_startdate'])\n",
    "        except:\n",
    "            pass\n",
    "\n",
    "        award_items.fillna('', inplace=True)\n",
    "\n",
    "        award_items['award_items_classification_id'] = award_items['award_items_classification_id'].astype(str)\n",
    "\n",
    "        award_items['cucops_codigo_expediente'] = award_items.groupby(['codigo_expediente'])['award_items_classification_id'].transform(lambda x: ', '.join(x))\n",
    "        award_items['cucops_codigo_expediente_award_suppliers_id'] = award_items.groupby(['codigo_expediente', 'award_suppliers_id'])['award_items_classification_id'].transform(lambda x: ', '.join(x))\n",
    "\n",
    "        award_items.to_csv(f'./processed/award_items/award_items_{i}.csv.zip', index=False, compression='zip')\n",
    "\n",
    "    except:\n",
    "        print(f\"Error on package {i}\")\n",
    "        pass"
   ]
  },
  {
   "attachments": {},
   "cell_type": "markdown",
   "metadata": {},
   "source": [
    "### Edca Extraction"
   ]
  },
  {
   "cell_type": "code",
   "execution_count": null,
   "metadata": {},
   "outputs": [],
   "source": []
  },
  {
   "cell_type": "code",
   "execution_count": 2,
   "metadata": {},
   "outputs": [
    {
     "data": {
      "application/vnd.jupyter.widget-view+json": {
       "model_id": "21f1ab100be14ea094a7a0189b50ddac",
       "version_major": 2,
       "version_minor": 0
      },
      "text/plain": [
       "  0%|          | 0/98 [00:00<?, ?it/s]"
      ]
     },
     "metadata": {},
     "output_type": "display_data"
    },
    {
     "name": "stdout",
     "output_type": "stream",
     "text": [
      "Error on package 1\n"
     ]
    },
    {
     "name": "stderr",
     "output_type": "stream",
     "text": [
      "/var/folders/xp/09_m9yj956x3kbv7qgpqgd6r0000gn/T/ipykernel_60247/1758133880.py:6: DtypeWarning: Columns (0,5,9,11,29,32) have mixed types. Specify dtype option on import or set low_memory=False.\n",
      "  awards_items = pd.read_csv(\n"
     ]
    },
    {
     "name": "stdout",
     "output_type": "stream",
     "text": [
      "Error on package 2\n",
      "Error on package 3\n"
     ]
    },
    {
     "name": "stderr",
     "output_type": "stream",
     "text": [
      "/var/folders/xp/09_m9yj956x3kbv7qgpqgd6r0000gn/T/ipykernel_60247/1758133880.py:6: DtypeWarning: Columns (20) have mixed types. Specify dtype option on import or set low_memory=False.\n",
      "  awards_items = pd.read_csv(\n"
     ]
    },
    {
     "name": "stdout",
     "output_type": "stream",
     "text": [
      "Error on package 4\n",
      "Error on package 5\n",
      "Error on package 6\n",
      "Error on package 7\n",
      "Error on package 8\n",
      "Error on package 9\n",
      "Error on package 10\n",
      "Error on package 11\n",
      "Error on package 12\n",
      "Error on package 13\n",
      "Error on package 14\n",
      "Error on package 15\n",
      "Error on package 16\n"
     ]
    },
    {
     "name": "stderr",
     "output_type": "stream",
     "text": [
      "/var/folders/xp/09_m9yj956x3kbv7qgpqgd6r0000gn/T/ipykernel_60247/1758133880.py:6: DtypeWarning: Columns (29) have mixed types. Specify dtype option on import or set low_memory=False.\n",
      "  awards_items = pd.read_csv(\n"
     ]
    },
    {
     "name": "stdout",
     "output_type": "stream",
     "text": [
      "Error on package 17\n",
      "Error on package 18\n",
      "Error on package 19\n",
      "Error on package 20\n",
      "Error on package 21\n",
      "Error on package 22\n",
      "Error on package 23\n",
      "Error on package 24\n",
      "Error on package 25\n",
      "Error on package 26\n",
      "Error on package 27\n",
      "Error on package 28\n",
      "Error on package 29\n",
      "Error on package 30\n",
      "Error on package 31\n"
     ]
    },
    {
     "name": "stderr",
     "output_type": "stream",
     "text": [
      "/var/folders/xp/09_m9yj956x3kbv7qgpqgd6r0000gn/T/ipykernel_60247/1758133880.py:6: DtypeWarning: Columns (29) have mixed types. Specify dtype option on import or set low_memory=False.\n",
      "  awards_items = pd.read_csv(\n"
     ]
    },
    {
     "name": "stdout",
     "output_type": "stream",
     "text": [
      "Error on package 32\n",
      "Error on package 33\n",
      "Error on package 34\n",
      "Error on package 35\n",
      "Error on package 36\n"
     ]
    },
    {
     "name": "stderr",
     "output_type": "stream",
     "text": [
      "/var/folders/xp/09_m9yj956x3kbv7qgpqgd6r0000gn/T/ipykernel_60247/1758133880.py:6: DtypeWarning: Columns (29) have mixed types. Specify dtype option on import or set low_memory=False.\n",
      "  awards_items = pd.read_csv(\n"
     ]
    },
    {
     "name": "stdout",
     "output_type": "stream",
     "text": [
      "Error on package 37\n",
      "Error on package 38\n",
      "Error on package 39\n"
     ]
    },
    {
     "name": "stderr",
     "output_type": "stream",
     "text": [
      "/var/folders/xp/09_m9yj956x3kbv7qgpqgd6r0000gn/T/ipykernel_60247/1758133880.py:6: DtypeWarning: Columns (31) have mixed types. Specify dtype option on import or set low_memory=False.\n",
      "  awards_items = pd.read_csv(\n"
     ]
    },
    {
     "name": "stdout",
     "output_type": "stream",
     "text": [
      "Error on package 40\n"
     ]
    },
    {
     "name": "stderr",
     "output_type": "stream",
     "text": [
      "/var/folders/xp/09_m9yj956x3kbv7qgpqgd6r0000gn/T/ipykernel_60247/1758133880.py:6: DtypeWarning: Columns (29) have mixed types. Specify dtype option on import or set low_memory=False.\n",
      "  awards_items = pd.read_csv(\n"
     ]
    },
    {
     "name": "stdout",
     "output_type": "stream",
     "text": [
      "Error on package 41\n",
      "Error on package 42\n",
      "Error on package 43\n",
      "Error on package 44\n",
      "Error on package 45\n",
      "Error on package 46\n",
      "Error on package 47\n",
      "Error on package 48\n"
     ]
    },
    {
     "name": "stderr",
     "output_type": "stream",
     "text": [
      "/var/folders/xp/09_m9yj956x3kbv7qgpqgd6r0000gn/T/ipykernel_60247/1758133880.py:6: DtypeWarning: Columns (31) have mixed types. Specify dtype option on import or set low_memory=False.\n",
      "  awards_items = pd.read_csv(\n"
     ]
    },
    {
     "name": "stdout",
     "output_type": "stream",
     "text": [
      "Error on package 49\n",
      "Error on package 50\n",
      "Error on package 51\n",
      "Error on package 52\n"
     ]
    },
    {
     "name": "stderr",
     "output_type": "stream",
     "text": [
      "/var/folders/xp/09_m9yj956x3kbv7qgpqgd6r0000gn/T/ipykernel_60247/1758133880.py:6: DtypeWarning: Columns (31) have mixed types. Specify dtype option on import or set low_memory=False.\n",
      "  awards_items = pd.read_csv(\n"
     ]
    },
    {
     "name": "stdout",
     "output_type": "stream",
     "text": [
      "Error on package 53\n"
     ]
    },
    {
     "name": "stderr",
     "output_type": "stream",
     "text": [
      "/var/folders/xp/09_m9yj956x3kbv7qgpqgd6r0000gn/T/ipykernel_60247/1758133880.py:6: DtypeWarning: Columns (29) have mixed types. Specify dtype option on import or set low_memory=False.\n",
      "  awards_items = pd.read_csv(\n"
     ]
    },
    {
     "name": "stdout",
     "output_type": "stream",
     "text": [
      "Error on package 54\n",
      "Error on package 55\n"
     ]
    },
    {
     "name": "stderr",
     "output_type": "stream",
     "text": [
      "/var/folders/xp/09_m9yj956x3kbv7qgpqgd6r0000gn/T/ipykernel_60247/1758133880.py:6: DtypeWarning: Columns (29) have mixed types. Specify dtype option on import or set low_memory=False.\n",
      "  awards_items = pd.read_csv(\n"
     ]
    },
    {
     "name": "stdout",
     "output_type": "stream",
     "text": [
      "Error on package 56\n",
      "Error on package 57\n"
     ]
    },
    {
     "name": "stderr",
     "output_type": "stream",
     "text": [
      "/var/folders/xp/09_m9yj956x3kbv7qgpqgd6r0000gn/T/ipykernel_60247/1758133880.py:6: DtypeWarning: Columns (29) have mixed types. Specify dtype option on import or set low_memory=False.\n",
      "  awards_items = pd.read_csv(\n"
     ]
    },
    {
     "name": "stdout",
     "output_type": "stream",
     "text": [
      "Error on package 58\n",
      "Error on package 59\n",
      "Error on package 60\n",
      "Error on package 61\n"
     ]
    },
    {
     "name": "stderr",
     "output_type": "stream",
     "text": [
      "/var/folders/xp/09_m9yj956x3kbv7qgpqgd6r0000gn/T/ipykernel_60247/1758133880.py:6: DtypeWarning: Columns (29) have mixed types. Specify dtype option on import or set low_memory=False.\n",
      "  awards_items = pd.read_csv(\n"
     ]
    },
    {
     "name": "stdout",
     "output_type": "stream",
     "text": [
      "Error on package 62\n",
      "Error on package 63\n"
     ]
    },
    {
     "name": "stderr",
     "output_type": "stream",
     "text": [
      "/var/folders/xp/09_m9yj956x3kbv7qgpqgd6r0000gn/T/ipykernel_60247/1758133880.py:6: DtypeWarning: Columns (31) have mixed types. Specify dtype option on import or set low_memory=False.\n",
      "  awards_items = pd.read_csv(\n"
     ]
    },
    {
     "name": "stdout",
     "output_type": "stream",
     "text": [
      "Error on package 64\n",
      "Error on package 65\n",
      "Error on package 66\n"
     ]
    },
    {
     "name": "stderr",
     "output_type": "stream",
     "text": [
      "/var/folders/xp/09_m9yj956x3kbv7qgpqgd6r0000gn/T/ipykernel_60247/1758133880.py:6: DtypeWarning: Columns (4) have mixed types. Specify dtype option on import or set low_memory=False.\n",
      "  awards_items = pd.read_csv(\n"
     ]
    },
    {
     "name": "stdout",
     "output_type": "stream",
     "text": [
      "Error on package 67\n",
      "Error on package 68\n",
      "Error on package 69\n",
      "Error on package 70\n"
     ]
    }
   ],
   "source": [
    "for k in tqdm(range(1,99)):\n",
    "    try:\n",
    "        file_awards_items = f\"./processed/award_items/award_items_{k}.csv.zip\"\n",
    "        file_generals = f\"./processed/generals/generals_{k}.csv.zip\"\n",
    "        \n",
    "        awards_items = pd.read_csv(\n",
    "            file_awards_items,\n",
    "            compression='zip'\n",
    "            )\n",
    "        \n",
    "        generals = pd.read_csv(\n",
    "            file_generals,\n",
    "            compression='zip'\n",
    "            )\n",
    "\n",
    "        edca = generals.merge(\n",
    "            awards_items,\n",
    "            how='left',\n",
    "            on=[\n",
    "            #'paquete',\n",
    "            #'release_index',\n",
    "            'releases_id',\n",
    "            #'releases_date',\n",
    "            #'releases_ocid'\n",
    "            ]\n",
    "            )\n",
    "        \n",
    "        edca.fillna('', inplace=True)\n",
    "\n",
    "        edca.rename(columns={\n",
    "            'paquete_x': 'paquete',\n",
    "            'release_index_x': 'release_index',\n",
    "            'releases_date_x': 'releases_date',\n",
    "            'releases_ocid_x': 'releases_ocid'\n",
    "            }, inplace=True\n",
    "            )\n",
    "        \n",
    "        try:\n",
    "            del edca['paquete_y']\n",
    "        except:\n",
    "            pass\n",
    "        \n",
    "        try:\n",
    "            del edca['release_index_y']\n",
    "        except:\n",
    "            pass\n",
    "\n",
    "        try:\n",
    "            del edca['releases_date_y']\n",
    "        except:\n",
    "            pass\n",
    "\n",
    "        try:\n",
    "            del edca['releases_ocid_y']\n",
    "        except:\n",
    "            pass\n",
    "\n",
    "        edca.to_csv(\n",
    "            f\"./processed/edca/edca_{k}.csv.zip\",\n",
    "            index=False,\n",
    "            compression=\"zip\"\n",
    "            )\n",
    "\n",
    "    except:\n",
    "        print(f\"Error on package {k}\")\n",
    "        pass"
   ]
  },
  {
   "cell_type": "code",
   "execution_count": 2,
   "metadata": {},
   "outputs": [
    {
     "ename": "NameError",
     "evalue": "name 'award_items' is not defined",
     "output_type": "error",
     "traceback": [
      "\u001b[0;31m---------------------------------------------------------------------------\u001b[0m",
      "\u001b[0;31mNameError\u001b[0m                                 Traceback (most recent call last)",
      "\u001b[1;32m/Users/cesar/sandbox/edca_contrataciones/querys_mongo.ipynb Cell 24\u001b[0m in \u001b[0;36m<cell line: 16>\u001b[0;34m()\u001b[0m\n\u001b[1;32m      <a href='vscode-notebook-cell:/Users/cesar/sandbox/edca_contrataciones/querys_mongo.ipynb#X63sZmlsZQ%3D%3D?line=5'>6</a>\u001b[0m awards_items \u001b[39m=\u001b[39m pd\u001b[39m.\u001b[39mread_csv(\n\u001b[1;32m      <a href='vscode-notebook-cell:/Users/cesar/sandbox/edca_contrataciones/querys_mongo.ipynb#X63sZmlsZQ%3D%3D?line=6'>7</a>\u001b[0m             file_awards_items,\n\u001b[1;32m      <a href='vscode-notebook-cell:/Users/cesar/sandbox/edca_contrataciones/querys_mongo.ipynb#X63sZmlsZQ%3D%3D?line=7'>8</a>\u001b[0m             compression\u001b[39m=\u001b[39m\u001b[39m'\u001b[39m\u001b[39mzip\u001b[39m\u001b[39m'\u001b[39m\n\u001b[1;32m      <a href='vscode-notebook-cell:/Users/cesar/sandbox/edca_contrataciones/querys_mongo.ipynb#X63sZmlsZQ%3D%3D?line=8'>9</a>\u001b[0m             )\n\u001b[1;32m     <a href='vscode-notebook-cell:/Users/cesar/sandbox/edca_contrataciones/querys_mongo.ipynb#X63sZmlsZQ%3D%3D?line=10'>11</a>\u001b[0m generals \u001b[39m=\u001b[39m pd\u001b[39m.\u001b[39mread_csv(\n\u001b[1;32m     <a href='vscode-notebook-cell:/Users/cesar/sandbox/edca_contrataciones/querys_mongo.ipynb#X63sZmlsZQ%3D%3D?line=11'>12</a>\u001b[0m             file_generals,\n\u001b[1;32m     <a href='vscode-notebook-cell:/Users/cesar/sandbox/edca_contrataciones/querys_mongo.ipynb#X63sZmlsZQ%3D%3D?line=12'>13</a>\u001b[0m             compression\u001b[39m=\u001b[39m\u001b[39m'\u001b[39m\u001b[39mzip\u001b[39m\u001b[39m'\u001b[39m\n\u001b[1;32m     <a href='vscode-notebook-cell:/Users/cesar/sandbox/edca_contrataciones/querys_mongo.ipynb#X63sZmlsZQ%3D%3D?line=13'>14</a>\u001b[0m             )\n\u001b[1;32m     <a href='vscode-notebook-cell:/Users/cesar/sandbox/edca_contrataciones/querys_mongo.ipynb#X63sZmlsZQ%3D%3D?line=15'>16</a>\u001b[0m edca \u001b[39m=\u001b[39m generals\u001b[39m.\u001b[39mmerge(\n\u001b[0;32m---> <a href='vscode-notebook-cell:/Users/cesar/sandbox/edca_contrataciones/querys_mongo.ipynb#X63sZmlsZQ%3D%3D?line=16'>17</a>\u001b[0m             award_items,\n\u001b[1;32m     <a href='vscode-notebook-cell:/Users/cesar/sandbox/edca_contrataciones/querys_mongo.ipynb#X63sZmlsZQ%3D%3D?line=17'>18</a>\u001b[0m             how\u001b[39m=\u001b[39m\u001b[39m'\u001b[39m\u001b[39mleft\u001b[39m\u001b[39m'\u001b[39m,\n\u001b[1;32m     <a href='vscode-notebook-cell:/Users/cesar/sandbox/edca_contrataciones/querys_mongo.ipynb#X63sZmlsZQ%3D%3D?line=18'>19</a>\u001b[0m             on\u001b[39m=\u001b[39m[\n\u001b[1;32m     <a href='vscode-notebook-cell:/Users/cesar/sandbox/edca_contrataciones/querys_mongo.ipynb#X63sZmlsZQ%3D%3D?line=19'>20</a>\u001b[0m             \u001b[39m#'paquete',\u001b[39;00m\n\u001b[1;32m     <a href='vscode-notebook-cell:/Users/cesar/sandbox/edca_contrataciones/querys_mongo.ipynb#X63sZmlsZQ%3D%3D?line=20'>21</a>\u001b[0m             \u001b[39m#'release_index',\u001b[39;00m\n\u001b[1;32m     <a href='vscode-notebook-cell:/Users/cesar/sandbox/edca_contrataciones/querys_mongo.ipynb#X63sZmlsZQ%3D%3D?line=21'>22</a>\u001b[0m             \u001b[39m'\u001b[39m\u001b[39mreleases_id\u001b[39m\u001b[39m'\u001b[39m,\n\u001b[1;32m     <a href='vscode-notebook-cell:/Users/cesar/sandbox/edca_contrataciones/querys_mongo.ipynb#X63sZmlsZQ%3D%3D?line=22'>23</a>\u001b[0m             \u001b[39m#'releases_date',\u001b[39;00m\n\u001b[1;32m     <a href='vscode-notebook-cell:/Users/cesar/sandbox/edca_contrataciones/querys_mongo.ipynb#X63sZmlsZQ%3D%3D?line=23'>24</a>\u001b[0m             \u001b[39m#'releases_ocid'\u001b[39;00m\n\u001b[1;32m     <a href='vscode-notebook-cell:/Users/cesar/sandbox/edca_contrataciones/querys_mongo.ipynb#X63sZmlsZQ%3D%3D?line=24'>25</a>\u001b[0m             ]\n\u001b[1;32m     <a href='vscode-notebook-cell:/Users/cesar/sandbox/edca_contrataciones/querys_mongo.ipynb#X63sZmlsZQ%3D%3D?line=25'>26</a>\u001b[0m             )\n\u001b[1;32m     <a href='vscode-notebook-cell:/Users/cesar/sandbox/edca_contrataciones/querys_mongo.ipynb#X63sZmlsZQ%3D%3D?line=27'>28</a>\u001b[0m edca\u001b[39m.\u001b[39mfillna(\u001b[39m'\u001b[39m\u001b[39m'\u001b[39m, inplace\u001b[39m=\u001b[39m\u001b[39mTrue\u001b[39;00m)\n\u001b[1;32m     <a href='vscode-notebook-cell:/Users/cesar/sandbox/edca_contrataciones/querys_mongo.ipynb#X63sZmlsZQ%3D%3D?line=29'>30</a>\u001b[0m edca\u001b[39m.\u001b[39mrename(columns\u001b[39m=\u001b[39m{\n\u001b[1;32m     <a href='vscode-notebook-cell:/Users/cesar/sandbox/edca_contrataciones/querys_mongo.ipynb#X63sZmlsZQ%3D%3D?line=30'>31</a>\u001b[0m             \u001b[39m'\u001b[39m\u001b[39mpaquete_x\u001b[39m\u001b[39m'\u001b[39m: \u001b[39m'\u001b[39m\u001b[39mpaquete\u001b[39m\u001b[39m'\u001b[39m,\n\u001b[1;32m     <a href='vscode-notebook-cell:/Users/cesar/sandbox/edca_contrataciones/querys_mongo.ipynb#X63sZmlsZQ%3D%3D?line=31'>32</a>\u001b[0m             \u001b[39m'\u001b[39m\u001b[39mrelease_index_x\u001b[39m\u001b[39m'\u001b[39m: \u001b[39m'\u001b[39m\u001b[39mrelease_index\u001b[39m\u001b[39m'\u001b[39m,\n\u001b[0;32m   (...)\u001b[0m\n\u001b[1;32m     <a href='vscode-notebook-cell:/Users/cesar/sandbox/edca_contrataciones/querys_mongo.ipynb#X63sZmlsZQ%3D%3D?line=34'>35</a>\u001b[0m             }, inplace\u001b[39m=\u001b[39m\u001b[39mTrue\u001b[39;00m\n\u001b[1;32m     <a href='vscode-notebook-cell:/Users/cesar/sandbox/edca_contrataciones/querys_mongo.ipynb#X63sZmlsZQ%3D%3D?line=35'>36</a>\u001b[0m             )\n",
      "\u001b[0;31mNameError\u001b[0m: name 'award_items' is not defined"
     ]
    }
   ],
   "source": [
    "k=1\n",
    "\n",
    "file_awards_items = f\"./processed/award_items/award_items_{k}.csv.zip\"\n",
    "file_generals = f\"./processed/generals/generals_{k}.csv.zip\"\n",
    "        \n",
    "awards_items = pd.read_csv(\n",
    "            file_awards_items,\n",
    "            compression='zip'\n",
    "            )\n",
    "        \n",
    "generals = pd.read_csv(\n",
    "            file_generals,\n",
    "            compression='zip'\n",
    "            )\n",
    "\n",
    "edca = generals.merge(\n",
    "            awards_items,\n",
    "            how='left',\n",
    "            on=[\n",
    "            #'paquete',\n",
    "            #'release_index',\n",
    "            'releases_id',\n",
    "            #'releases_date',\n",
    "            #'releases_ocid'\n",
    "            ]\n",
    "            )\n",
    "        \n",
    "edca.fillna('', inplace=True)\n",
    "\n",
    "edca.rename(columns={\n",
    "            'paquete_x': 'paquete',\n",
    "            'release_index_x': 'release_index',\n",
    "            'releases_date_x': 'releases_date',\n",
    "            'releases_ocid_x': 'releases_ocid'\n",
    "            }, inplace=True\n",
    "            )\n",
    "        \n",
    "try:\n",
    "    del edca['paquete_y']\n",
    "except:\n",
    "    pass\n",
    "        \n",
    "try:\n",
    "    del edca['release_index_y']\n",
    "except:\n",
    "    pass\n",
    "\n",
    "try:\n",
    "    del edca['releases_date_y']\n",
    "except:\n",
    "    pass\n",
    "\n",
    "try:\n",
    "    del edca['releases_ocid_y']\n",
    "except:\n",
    "    pass\n",
    "\n",
    "edca.to_csv(\n",
    "            f\"./processed/edca/edca_{k}.csv.zip\",\n",
    "            index=False,\n",
    "            compression=\"zip\"\n",
    "            )"
   ]
  },
  {
   "cell_type": "code",
   "execution_count": null,
   "metadata": {},
   "outputs": [],
   "source": [
    "edca"
   ]
  }
 ],
 "metadata": {
  "kernelspec": {
   "display_name": "base",
   "language": "python",
   "name": "python3"
  },
  "language_info": {
   "codemirror_mode": {
    "name": "ipython",
    "version": 3
   },
   "file_extension": ".py",
   "mimetype": "text/x-python",
   "name": "python",
   "nbconvert_exporter": "python",
   "pygments_lexer": "ipython3",
   "version": "3.8.15"
  },
  "orig_nbformat": 4,
  "vscode": {
   "interpreter": {
    "hash": "9bc5e7765ec7e1c00bce95d38c73b1329b3db324e247031a5deabeb5b6a869e0"
   }
  }
 },
 "nbformat": 4,
 "nbformat_minor": 2
}
